{
 "cells": [
  {
   "cell_type": "code",
   "execution_count": 1,
   "id": "33ea9a84",
   "metadata": {},
   "outputs": [
    {
     "name": "stdout",
     "output_type": "stream",
     "text": [
      "the values of x,y,z\n"
     ]
    }
   ],
   "source": [
    "x=20\n",
    "y=30\n",
    "z=40\n",
    "print (\"the values of x,y,z\")"
   ]
  },
  {
   "cell_type": "code",
   "execution_count": 2,
   "id": "8085914f",
   "metadata": {},
   "outputs": [
    {
     "ename": "SyntaxError",
     "evalue": "invalid syntax (2981018715.py, line 1)",
     "output_type": "error",
     "traceback": [
      "\u001b[1;36m  Input \u001b[1;32mIn [2]\u001b[1;36m\u001b[0m\n\u001b[1;33m    print (\"the values of x,y,z\"are \"x\" & \"y\" & \"z\" respectively)\u001b[0m\n\u001b[1;37m                                ^\u001b[0m\n\u001b[1;31mSyntaxError\u001b[0m\u001b[1;31m:\u001b[0m invalid syntax\n"
     ]
    }
   ],
   "source": [
    "print (\"the values of x,y,z are\" \"x\" & \"y\" & \"z\" respectively)"
   ]
  },
  {
   "cell_type": "code",
   "execution_count": 3,
   "id": "4c42c43a",
   "metadata": {},
   "outputs": [
    {
     "ename": "SyntaxError",
     "evalue": "invalid syntax (2463211318.py, line 1)",
     "output_type": "error",
     "traceback": [
      "\u001b[1;36m  Input \u001b[1;32mIn [3]\u001b[1;36m\u001b[0m\n\u001b[1;33m    print (\"the values of x,y,z are\" \"x\" & \"y\" & \"z\" respectively)\u001b[0m\n\u001b[1;37m                                                     ^\u001b[0m\n\u001b[1;31mSyntaxError\u001b[0m\u001b[1;31m:\u001b[0m invalid syntax\n"
     ]
    }
   ],
   "source": [
    "print (\"the values of x,y,z are\" \"x\" & \"y\" & \"z\" respectively)"
   ]
  },
  {
   "cell_type": "code",
   "execution_count": 4,
   "id": "b635f819",
   "metadata": {},
   "outputs": [
    {
     "ename": "SyntaxError",
     "evalue": "invalid syntax (1527706439.py, line 1)",
     "output_type": "error",
     "traceback": [
      "\u001b[1;36m  Input \u001b[1;32mIn [4]\u001b[1;36m\u001b[0m\n\u001b[1;33m    print (\"the values of x,y,z are\",  x \"&\" y \"&\" z respectively)\u001b[0m\n\u001b[1;37m                                         ^\u001b[0m\n\u001b[1;31mSyntaxError\u001b[0m\u001b[1;31m:\u001b[0m invalid syntax\n"
     ]
    }
   ],
   "source": [
    "print (\"the values of x,y,z are\",  x \"&\" y \"&\" z respectively)"
   ]
  },
  {
   "cell_type": "code",
   "execution_count": 5,
   "id": "a6925aef",
   "metadata": {},
   "outputs": [
    {
     "ename": "SyntaxError",
     "evalue": "invalid syntax (2945637408.py, line 1)",
     "output_type": "error",
     "traceback": [
      "\u001b[1;36m  Input \u001b[1;32mIn [5]\u001b[1;36m\u001b[0m\n\u001b[1;33m    print (\"the values of x & y & z are\",  x \"&\" y \"&\" z respectively)\u001b[0m\n\u001b[1;37m                                             ^\u001b[0m\n\u001b[1;31mSyntaxError\u001b[0m\u001b[1;31m:\u001b[0m invalid syntax\n"
     ]
    }
   ],
   "source": [
    "print (\"the values of x & y & z are\",  x \"&\" y \"&\" z respectively)"
   ]
  },
  {
   "cell_type": "code",
   "execution_count": 6,
   "id": "4c543d91",
   "metadata": {},
   "outputs": [
    {
     "ename": "SyntaxError",
     "evalue": "invalid syntax (917618991.py, line 1)",
     "output_type": "error",
     "traceback": [
      "\u001b[1;36m  Input \u001b[1;32mIn [6]\u001b[1;36m\u001b[0m\n\u001b[1;33m    print (\"the values of x,y,z are\",  x ,\"&\", y ,\"&\", z respectively)\u001b[0m\n\u001b[1;37m                                                         ^\u001b[0m\n\u001b[1;31mSyntaxError\u001b[0m\u001b[1;31m:\u001b[0m invalid syntax\n"
     ]
    }
   ],
   "source": [
    "print (\"the values of x,y,z are\",  x ,\"&\", y ,\"&\", z respectively)"
   ]
  },
  {
   "cell_type": "code",
   "execution_count": 7,
   "id": "ebac0e08",
   "metadata": {},
   "outputs": [
    {
     "ename": "SyntaxError",
     "evalue": "invalid syntax (2945637408.py, line 1)",
     "output_type": "error",
     "traceback": [
      "\u001b[1;36m  Input \u001b[1;32mIn [7]\u001b[1;36m\u001b[0m\n\u001b[1;33m    print (\"the values of x & y & z are\",  x \"&\" y \"&\" z respectively)\u001b[0m\n\u001b[1;37m                                             ^\u001b[0m\n\u001b[1;31mSyntaxError\u001b[0m\u001b[1;31m:\u001b[0m invalid syntax\n"
     ]
    }
   ],
   "source": [
    "print (\"the values of x & y & z are\",  x \"&\" y \"&\" z respectively)"
   ]
  },
  {
   "cell_type": "code",
   "execution_count": 8,
   "id": "4e5fdcbc",
   "metadata": {},
   "outputs": [
    {
     "ename": "SyntaxError",
     "evalue": "invalid syntax (3295532838.py, line 1)",
     "output_type": "error",
     "traceback": [
      "\u001b[1;36m  Input \u001b[1;32mIn [8]\u001b[1;36m\u001b[0m\n\u001b[1;33m    print (\"the values of x & y & z are\",  x, \"&\", y ,\"&\" ,z respectively)\u001b[0m\n\u001b[1;37m                                                             ^\u001b[0m\n\u001b[1;31mSyntaxError\u001b[0m\u001b[1;31m:\u001b[0m invalid syntax\n"
     ]
    }
   ],
   "source": [
    "print (\"the values of x & y & z are\",  x, \"&\", y ,\"&\" ,z respectively)"
   ]
  },
  {
   "cell_type": "code",
   "execution_count": 9,
   "id": "d2a330b8",
   "metadata": {},
   "outputs": [
    {
     "ename": "NameError",
     "evalue": "name 'respectively' is not defined",
     "output_type": "error",
     "traceback": [
      "\u001b[1;31m---------------------------------------------------------------------------\u001b[0m",
      "\u001b[1;31mNameError\u001b[0m                                 Traceback (most recent call last)",
      "Input \u001b[1;32mIn [9]\u001b[0m, in \u001b[0;36m<cell line: 1>\u001b[1;34m()\u001b[0m\n\u001b[1;32m----> 1\u001b[0m \u001b[38;5;28mprint\u001b[39m (\u001b[38;5;124m\"\u001b[39m\u001b[38;5;124mthe values of x & y & z are\u001b[39m\u001b[38;5;124m\"\u001b[39m,  x, \u001b[38;5;124m\"\u001b[39m\u001b[38;5;124m&\u001b[39m\u001b[38;5;124m\"\u001b[39m, y ,\u001b[38;5;124m\"\u001b[39m\u001b[38;5;124m&\u001b[39m\u001b[38;5;124m\"\u001b[39m ,z , \u001b[43mrespectively\u001b[49m)\n",
      "\u001b[1;31mNameError\u001b[0m: name 'respectively' is not defined"
     ]
    }
   ],
   "source": [
    " print (\"the values of x & y & z are\",  x, \"&\", y ,\"&\" ,z , respectively)"
   ]
  },
  {
   "cell_type": "code",
   "execution_count": 10,
   "id": "5afb9008",
   "metadata": {},
   "outputs": [
    {
     "name": "stdout",
     "output_type": "stream",
     "text": [
      "the values of x & y & z are 20 & 30 & 40 respectively\n"
     ]
    }
   ],
   "source": [
    " print (\"the values of x & y & z are\",  x, \"&\", y ,\"&\", z, \"respectively\")"
   ]
  },
  {
   "cell_type": "code",
   "execution_count": 11,
   "id": "e0ae48c3",
   "metadata": {},
   "outputs": [
    {
     "name": "stdout",
     "output_type": "stream",
     "text": [
      "multiply x & y = 600\n"
     ]
    }
   ],
   "source": [
    "print (\"multiply x & y =\", x*y)"
   ]
  },
  {
   "cell_type": "code",
   "execution_count": 12,
   "id": "d9cfb6d6",
   "metadata": {},
   "outputs": [
    {
     "name": "stdout",
     "output_type": "stream",
     "text": [
      "sum of x & y & z= 90\n"
     ]
    }
   ],
   "source": [
    "print (\"sum of x & y & z=\", x+y+z )"
   ]
  },
  {
   "cell_type": "code",
   "execution_count": 13,
   "id": "742d3bd8",
   "metadata": {},
   "outputs": [
    {
     "name": "stdout",
     "output_type": "stream",
     "text": [
      " divide z & y= 1.3333333333333333\n"
     ]
    }
   ],
   "source": [
    "print (\" divide z & y=\", z/y)"
   ]
  },
  {
   "cell_type": "code",
   "execution_count": 14,
   "id": "4b6b34e0",
   "metadata": {},
   "outputs": [
    {
     "ename": "SyntaxError",
     "evalue": "EOL while scanning string literal (3156791482.py, line 1)",
     "output_type": "error",
     "traceback": [
      "\u001b[1;36m  Input \u001b[1;32mIn [14]\u001b[1;36m\u001b[0m\n\u001b[1;33m    print (\"square root of z=\", z\")\u001b[0m\n\u001b[1;37m                                   ^\u001b[0m\n\u001b[1;31mSyntaxError\u001b[0m\u001b[1;31m:\u001b[0m EOL while scanning string literal\n"
     ]
    }
   ],
   "source": [
    "print (\"square root of z=\", z\")"
   ]
  },
  {
   "cell_type": "code",
   "execution_count": 15,
   "id": "7f9ce9e9",
   "metadata": {},
   "outputs": [
    {
     "name": "stdout",
     "output_type": "stream",
     "text": [
      "the values of x & y & z are 20 & 30 & 40  respectively\n"
     ]
    }
   ],
   "source": [
    "print (\"the values of x & y & z are\", x, \"&\", y, \"&\", z, \" respectively\")"
   ]
  },
  {
   "cell_type": "code",
   "execution_count": null,
   "id": "d324537a",
   "metadata": {},
   "outputs": [],
   "source": []
  }
 ],
 "metadata": {
  "kernelspec": {
   "display_name": "Python 3 (ipykernel)",
   "language": "python",
   "name": "python3"
  },
  "language_info": {
   "codemirror_mode": {
    "name": "ipython",
    "version": 3
   },
   "file_extension": ".py",
   "mimetype": "text/x-python",
   "name": "python",
   "nbconvert_exporter": "python",
   "pygments_lexer": "ipython3",
   "version": "3.9.12"
  }
 },
 "nbformat": 4,
 "nbformat_minor": 5
}
